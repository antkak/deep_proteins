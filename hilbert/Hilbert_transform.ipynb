{
 "cells": [
  {
   "cell_type": "code",
   "execution_count": 1,
   "metadata": {},
   "outputs": [],
   "source": [
    "from hilbertcurve.hilbertcurve import HilbertCurve\n",
    "import numpy as np\n",
    "\n",
    "hilbert_curve = HilbertCurve(5, 2)\n",
    "\n",
    "# Load training data from cb6133\n",
    "training_data = np.load('../data/cb6133filtered.npy')\n",
    "\n",
    "# Pick the first sample (sequence) and reshape it to 700 x 57 (sequence length x features+labels) \n",
    "first_sequence = training_data[0,:].reshape((700,57))\n",
    "\n",
    "# Padding element\n",
    "no_seq_feat = first_sequence[-1,np.r_[:22, 35:57]]\n",
    "no_seq_out = first_sequence[-1,22:31]\n",
    "\n",
    "# lists to save hilbert images (input and output)\n",
    "hilbert_images = []\n",
    "hilbert_output_images = []\n",
    "\n",
    "# for every sequence\n",
    "for i in range(training_data.shape[0]):\n",
    "    \n",
    "    # get sequence from set\n",
    "    sequence = training_data[i,:].reshape((700,57))\n",
    "    \n",
    "    #initialize images (in and out)\n",
    "    hi = np.zeros((32,32,44))\n",
    "    ho = np.zeros((32,32,9)) \n",
    "\n",
    "    # 1024 = 2^5 the smallest power of two which is larger than 700 (max len of sequence)\n",
    "    for j in range(1024):\n",
    "        # get hilbert coordinates\n",
    "        c0,c1 = hilbert_curve.coordinates_from_distance(j)\n",
    "        \n",
    "        # extract information of input (residue one hot and PSSM), structure for output\n",
    "        if j<700: \n",
    "            # in sequence\n",
    "            hi[c0,c1,:] = sequence[j,np.r_[:22, 35:57]]\n",
    "            ho[c0,c1,:] = sequence[j,22:31]\n",
    "        else:\n",
    "            # padding\n",
    "            hi[c0,c1,:] = no_seq_feat    \n",
    "            ho[c0,c1,:] = no_seq_out\n",
    "    \n",
    "    # put in lists\n",
    "    hilbert_images.append(hi)\n",
    "    hilbert_output_images.append(ho)"
   ]
  },
  {
   "cell_type": "code",
   "execution_count": 11,
   "metadata": {},
   "outputs": [
    {
     "data": {
      "text/plain": [
       "<matplotlib.image.AxesImage at 0x7fc9fe8bacc0>"
      ]
     },
     "execution_count": 11,
     "metadata": {},
     "output_type": "execute_result"
    },
    {
     "data": {
      "image/png": "[encoded data removed]",
      "text/plain": [
       "<Figure size 432x288 with 1 Axes>"
      ]
     },
     "metadata": {
      "needs_background": "light"
     },
     "output_type": "display_data"
    }
   ],
   "source": [
    "import matplotlib.pyplot as plt\n",
    "plt.imshow(hilbert_images[40][:,:,22:25])"
   ]
  },
  {
   "cell_type": "code",
   "execution_count": 47,
   "metadata": {},
   "outputs": [],
   "source": [
    "for i,(ii,io) in enumerate(zip(hilbert_images, hilbert_output_images)):\n",
    "    np.save('../data/hilbert_images/input/train_in_{}.npy'.format(i), ii)\n",
    "    np.save('../data/hilbert_images/output/train_out_{}.npy'.format(i), io)"
   ]
  }
 ],
 "metadata": {
  "kernelspec": {
   "display_name": "Python 3",
   "language": "python",
   "name": "python3"
  },
  "language_info": {
   "codemirror_mode": {
    "name": "ipython",
    "version": 3
   },
   "file_extension": ".py",
   "mimetype": "text/x-python",
   "name": "python",
   "nbconvert_exporter": "python",
   "pygments_lexer": "ipython3",
   "version": "3.6.8"
  }
 },
 "nbformat": 4,
 "nbformat_minor": 2
}
