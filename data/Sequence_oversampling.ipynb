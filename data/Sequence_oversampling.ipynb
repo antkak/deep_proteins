{
 "cells": [
  {
   "cell_type": "markdown",
   "metadata": {},
   "source": [
    "# Dataset Presentation of CB6133_filtered"
   ]
  },
  {
   "cell_type": "code",
   "execution_count": 1,
   "metadata": {},
   "outputs": [
    {
     "name": "stdout",
     "output_type": "stream",
     "text": [
      "sequences: 5534 \n",
      "features: 39900\n"
     ]
    }
   ],
   "source": [
    "import numpy as np\n",
    "\n",
    "# Load training data from cb6133\n",
    "training_data = np.load('cb6133filtered.npy')\n",
    "print('sequences:',training_data.shape[0],\n",
    "      '\\nfeatures:' ,training_data.shape[1])"
   ]
  },
  {
   "cell_type": "code",
   "execution_count": 2,
   "metadata": {},
   "outputs": [],
   "source": [
    "# Compute label counts\n",
    "str_counter = np.array([0., 0., 0., 0., 0., 0., 0., 0., 0.])\n",
    "for i in range(training_data.shape[0]):\n",
    "    sequence = training_data[i,:].reshape((700,57))\n",
    "    structs = sequence[:, 22:31]\n",
    "    sumstructs = np.sum(structs, axis = 0)\n",
    "    str_counter +=  sumstructs\n",
    "    "
   ]
  },
  {
   "cell_type": "code",
   "execution_count": 4,
   "metadata": {},
   "outputs": [
    {
     "data": {
      "text/plain": [
       "<BarContainer object of 9 artists>"
      ]
     },
     "execution_count": 4,
     "metadata": {},
     "output_type": "execute_result"
    },
    {
     "data": {
      "image/png": "[encoded data removed]",
      "text/plain": [
       "<Figure size 432x288 with 1 Axes>"
      ]
     },
     "metadata": {
      "needs_background": "light"
     },
     "output_type": "display_data"
    }
   ],
   "source": [
    "import matplotlib.pyplot as plt\n",
    "plt.bar(['L', 'B', 'E', 'G', 'I', 'H', 'S', 'T','NoSeq'],str_counter)"
   ]
  },
  {
   "cell_type": "code",
   "execution_count": 5,
   "metadata": {},
   "outputs": [
    {
     "data": {
      "text/plain": [
       "<BarContainer object of 8 artists>"
      ]
     },
     "execution_count": 5,
     "metadata": {},
     "output_type": "execute_result"
    },
    {
     "data": {
      "image/png": "[encoded data removed]",
      "text/plain": [
       "<Figure size 432x288 with 1 Axes>"
      ]
     },
     "metadata": {
      "needs_background": "light"
     },
     "output_type": "display_data"
    }
   ],
   "source": [
    "# plot once again without NoSeq\n",
    "plt.bar(['L', 'B', 'E', 'G', 'I', 'H', 'S', 'T'],str_counter[:-1])"
   ]
  },
  {
   "cell_type": "code",
   "execution_count": 6,
   "metadata": {},
   "outputs": [],
   "source": [
    "# Compute label count, grouped, BGI (small) vs LEHST (big)\n",
    "count_imbalance = []\n",
    "for i in range(training_data.shape[0]):\n",
    "    sequence = training_data[i,:].reshape((700,57))\n",
    "    structs = sequence[:, 22:31]\n",
    "    sumstructs = np.sum(structs, axis = 0)\n",
    "    count_imbalance.append([sumstructs[0]+sumstructs[2]+sumstructs[5]+sumstructs[6]+sumstructs[7],\\\n",
    "                            sumstructs[1]+sumstructs[3]+sumstructs[4]])"
   ]
  },
  {
   "cell_type": "code",
   "execution_count": 7,
   "metadata": {},
   "outputs": [
    {
     "name": "stdout",
     "output_type": "stream",
     "text": [
      "0.049575008577575935\n"
     ]
    }
   ],
   "source": [
    "# compute percentage of small/all\n",
    "perc_small = [x[1]/sum(x) for x in count_imbalance]\n",
    "print(sum([x[1] for x in count_imbalance])/(sum([x[0] for x in count_imbalance])+sum([x[1] for x in count_imbalance])))\n"
   ]
  },
  {
   "cell_type": "code",
   "execution_count": 8,
   "metadata": {},
   "outputs": [
    {
     "data": {
      "text/plain": [
       "(array([1.192e+03, 1.315e+03, 1.341e+03, 9.190e+02, 4.660e+02, 1.650e+02,\n",
       "        7.900e+01, 2.900e+01, 1.600e+01, 3.000e+00, 5.000e+00, 1.000e+00,\n",
       "        1.000e+00, 1.000e+00, 0.000e+00, 0.000e+00, 0.000e+00, 0.000e+00,\n",
       "        0.000e+00, 1.000e+00]),\n",
       " array([0.  , 0.02, 0.04, 0.06, 0.08, 0.1 , 0.12, 0.14, 0.16, 0.18, 0.2 ,\n",
       "        0.22, 0.24, 0.26, 0.28, 0.3 , 0.32, 0.34, 0.36, 0.38, 0.4 ]),\n",
       " <a list of 20 Patch objects>)"
      ]
     },
     "execution_count": 8,
     "metadata": {},
     "output_type": "execute_result"
    },
    {
     "data": {
      "image/png": "[encoded data removed]",
      "text/plain": [
       "<Figure size 432x288 with 1 Axes>"
      ]
     },
     "metadata": {
      "needs_background": "light"
     },
     "output_type": "display_data"
    }
   ],
   "source": [
    "# checking histogram to select a threshold\n",
    "plt.hist(perc_small,bins = 20)"
   ]
  },
  {
   "cell_type": "code",
   "execution_count": 9,
   "metadata": {},
   "outputs": [
    {
     "data": {
      "text/plain": [
       "92"
      ]
     },
     "execution_count": 9,
     "metadata": {},
     "output_type": "execute_result"
    }
   ],
   "source": [
    "# checking threshold in numbers\n",
    "len([x for x in perc_small if x>0.13])"
   ]
  },
  {
   "cell_type": "code",
   "execution_count": 12,
   "metadata": {},
   "outputs": [
    {
     "name": "stdout",
     "output_type": "stream",
     "text": [
      "0.059134407545124695\n"
     ]
    },
    {
     "data": {
      "text/plain": [
       "(array([4768., 5260., 5364., 3676., 1864.,  660., 2045., 1131.,  624.,\n",
       "         117.,  195.,   39.,   39.,   39.,    0.,    0.,    0.,    0.,\n",
       "           0.,   39.]),\n",
       " array([0.  , 0.02, 0.04, 0.06, 0.08, 0.1 , 0.12, 0.14, 0.16, 0.18, 0.2 ,\n",
       "        0.22, 0.24, 0.26, 0.28, 0.3 , 0.32, 0.34, 0.36, 0.38, 0.4 ]),\n",
       " <a list of 20 Patch objects>)"
      ]
     },
     "execution_count": 12,
     "metadata": {},
     "output_type": "execute_result"
    },
    {
     "data": {
      "image/png": "[encoded data removed]",
      "text/plain": [
       "<Figure size 432x288 with 1 Axes>"
      ]
     },
     "metadata": {
      "needs_background": "light"
     },
     "output_type": "display_data"
    }
   ],
   "source": [
    "# upsample (indices) training samples where small percentage is above threshold\n",
    "augmented = []\n",
    "for x,i in zip(perc_small,list(range(training_data.shape[0]))):\n",
    "    if x>0.13:\n",
    "        augmented+=[i]*13\n",
    "    else:\n",
    "        augmented.append(i)\n",
    "\n",
    "# Compute label counts\n",
    "str_counter = np.array([0., 0., 0., 0., 0., 0., 0., 0., 0.])\n",
    "for i in augmented:\n",
    "    sequence = training_data[i,:].reshape((700,57))\n",
    "    structs = sequence[:, 22:31]\n",
    "    sumstructs = np.sum(structs, axis = 0)\n",
    "    str_counter +=  sumstructs\n",
    "\n",
    "for i in augmented:\n",
    "    sequence = training_data[i,:].reshape((700,57))\n",
    "    structs = sequence[:, 22:31]\n",
    "    sumstructs = np.sum(structs, axis = 0)\n",
    "    count_imbalance.append([sumstructs[0]+sumstructs[2]+sumstructs[5]+sumstructs[6]+sumstructs[7],\\\n",
    "                            sumstructs[1]+sumstructs[3]+sumstructs[4]])\n",
    "    \n",
    "perc_small = [x[1]/sum(x) for x in count_imbalance]\n",
    "\n",
    "print(sum([x[1] for x in count_imbalance])/(sum([x[0] for x in count_imbalance])+sum([x[1] for x in count_imbalance])))\n",
    "\n",
    "plt.hist(perc_small,bins = 20)"
   ]
  },
  {
   "cell_type": "code",
   "execution_count": 13,
   "metadata": {},
   "outputs": [
    {
     "data": {
      "text/plain": [
       "<BarContainer object of 8 artists>"
      ]
     },
     "execution_count": 13,
     "metadata": {},
     "output_type": "execute_result"
    },
    {
     "data": {
      "image/png": "[encoded data removed]",
      "text/plain": [
       "<Figure size 432x288 with 1 Axes>"
      ]
     },
     "metadata": {
      "needs_background": "light"
     },
     "output_type": "display_data"
    }
   ],
   "source": [
    "# plot once again without NoSeq\n",
    "plt.bar(['L', 'B', 'E', 'G', 'I', 'H', 'S', 'T'],str_counter[:-1])"
   ]
  },
  {
   "cell_type": "code",
   "execution_count": 14,
   "metadata": {},
   "outputs": [],
   "source": [
    "# just 0.1 ... (how to optimize it)"
   ]
  },
  {
   "cell_type": "code",
   "execution_count": 15,
   "metadata": {},
   "outputs": [],
   "source": [
    "new_dataset = np.vstack([training_data[i,:] for i in augmented])"
   ]
  },
  {
   "cell_type": "code",
   "execution_count": 16,
   "metadata": {},
   "outputs": [
    {
     "data": {
      "text/plain": [
       "(6638, 39900)"
      ]
     },
     "execution_count": 16,
     "metadata": {},
     "output_type": "execute_result"
    }
   ],
   "source": [
    "new_dataset.shape"
   ]
  },
  {
   "cell_type": "code",
   "execution_count": 18,
   "metadata": {},
   "outputs": [],
   "source": [
    "np.save('cb6133filtered_aug.npy',new_dataset)"
   ]
  }
 ],
 "metadata": {
  "kernelspec": {
   "display_name": "Python 3",
   "language": "python",
   "name": "python3"
  },
  "language_info": {
   "codemirror_mode": {
    "name": "ipython",
    "version": 3
   },
   "file_extension": ".py",
   "mimetype": "text/x-python",
   "name": "python",
   "nbconvert_exporter": "python",
   "pygments_lexer": "ipython3",
   "version": "3.6.8"
  }
 },
 "nbformat": 4,
 "nbformat_minor": 2
}
