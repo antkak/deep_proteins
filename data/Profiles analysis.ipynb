{
 "cells": [
  {
   "cell_type": "markdown",
   "metadata": {},
   "source": [
    "# Dataset Presentation of CB6133_filtered"
   ]
  },
  {
   "cell_type": "code",
   "execution_count": 2,
   "metadata": {},
   "outputs": [
    {
     "name": "stdout",
     "output_type": "stream",
     "text": [
      "sequences: 5534 \n",
      "features: 39900\n"
     ]
    }
   ],
   "source": [
    "import numpy as np\n",
    "\n",
    "# Load training data from cb6133\n",
    "training_data = np.load('cb6133filtered.npy')\n",
    "print('sequences:',training_data.shape[0],\n",
    "      '\\nfeatures:' ,training_data.shape[1])"
   ]
  },
  {
   "cell_type": "code",
   "execution_count": 14,
   "metadata": {},
   "outputs": [
    {
     "name": "stdout",
     "output_type": "stream",
     "text": [
      "difference less than 0.01 0.19252052280114051\n",
      "difference less than 0.02 0.31976442511649444\n",
      "difference less than 0.05 0.5550038113169917\n",
      "difference less than 0.08 0.6839167493437943\n",
      "difference less than 0.1 0.7412546754126955\n",
      "difference less than 0.15 0.8286555262406217\n",
      "difference less than 0.2 0.8711766405987232\n",
      "difference less than 0.5 0.9540123618503226\n"
     ]
    }
   ],
   "source": [
    "# Compute label counts\n",
    "percs = []\n",
    "for thresh in [0.01, 0.02, 0.05, 0.08, 0.1, 0.15, 0.2, 0.5]:\n",
    "    cnt = 0\n",
    "    cntall=0\n",
    "    for i in range(training_data.shape[0]):\n",
    "        sequence = training_data[i,:].reshape((700,57))\n",
    "        profiles = sequence[:, 35:57]\n",
    "        for j in range(700):\n",
    "            ress = list(profiles[j,:])\n",
    "    #         print(sorted(ress)[::-1])\n",
    "            x1,x2 = sorted(ress)[::-1][0:2]\n",
    "            if x1-x2<thresh:\n",
    "                cnt+=1\n",
    "            if int(x1-x2)==1:\n",
    "                continue\n",
    "            cntall+=1\n",
    "\n",
    "    print('difference less than {}'.format(thresh), cnt/cntall)\n",
    "    percs.append(cnt/cntall)\n",
    "    "
   ]
  },
  {
   "cell_type": "code",
   "execution_count": 16,
   "metadata": {},
   "outputs": [
    {
     "data": {
      "text/plain": [
       "[<matplotlib.lines.Line2D at 0x7f00fc9d7358>]"
      ]
     },
     "execution_count": 16,
     "metadata": {},
     "output_type": "execute_result"
    },
    {
     "data": {
      "image/png": "[encoded data removed]",
      "text/plain": [
       "<Figure size 432x288 with 1 Axes>"
      ]
     },
     "metadata": {
      "needs_background": "light"
     },
     "output_type": "display_data"
    }
   ],
   "source": [
    "import matplotlib.pyplot as plt\n",
    "plt.plot([0.01, 0.02, 0.05, 0.08, 0.1, 0.15, 0.2, 0.5],percs)"
   ]
  }
 ],
 "metadata": {
  "kernelspec": {
   "display_name": "Python 3",
   "language": "python",
   "name": "python3"
  },
  "language_info": {
   "codemirror_mode": {
    "name": "ipython",
    "version": 3
   },
   "file_extension": ".py",
   "mimetype": "text/x-python",
   "name": "python",
   "nbconvert_exporter": "python",
   "pygments_lexer": "ipython3",
   "version": "3.6.8"
  }
 },
 "nbformat": 4,
 "nbformat_minor": 2
}
