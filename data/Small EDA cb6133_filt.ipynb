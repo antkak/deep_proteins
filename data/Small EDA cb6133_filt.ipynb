{
 "cells": [
  {
   "cell_type": "markdown",
   "metadata": {},
   "source": [
    "# Dataset Presentation of CB6133_filtered"
   ]
  },
  {
   "cell_type": "code",
   "execution_count": 76,
   "metadata": {},
   "outputs": [
    {
     "name": "stdout",
     "output_type": "stream",
     "text": [
      "('sequences', 5534) ('features', 39900)\n"
     ]
    }
   ],
   "source": [
    "import numpy as np\n",
    "\n",
    "# Load training data from cb6133\n",
    "training_data = np.load('cb6133filtered.npy')\n",
    "print('sequences:',training_data.shape[0],\n",
    "      '\\nfeatures:' ,training_data.shape[1])"
   ]
  },
  {
   "cell_type": "code",
   "execution_count": 77,
   "metadata": {},
   "outputs": [
    {
     "name": "stdout",
     "output_type": "stream",
     "text": [
      "(700, 57) \n",
      " [[0.         0.         0.         ... 0.26894143 0.99938297 0.        ]\n",
      " [0.         0.         0.         ... 0.26894143 0.01551975 0.        ]\n",
      " [0.         0.         0.         ... 0.26894143 0.99969351 0.        ]\n",
      " ...\n",
      " [0.         0.         0.         ... 0.         0.         1.        ]\n",
      " [0.         0.         0.         ... 0.         0.         1.        ]\n",
      " [0.         0.         0.         ... 0.         0.         1.        ]]\n"
     ]
    }
   ],
   "source": [
    "# Pick the first sample (sequence) and reshape it to 700 x 57 (sequence length x features+labels) \n",
    "first_sequence = training_data[0,:].reshape((700,57))\n",
    "print(first_sequence.shape,'\\n',first_sequence)"
   ]
  },
  {
   "cell_type": "code",
   "execution_count": 78,
   "metadata": {},
   "outputs": [
    {
     "name": "stdout",
     "output_type": "stream",
     "text": [
      "[0.         0.         0.         0.         1.         0.\n",
      " 0.         0.         0.         0.         0.         0.\n",
      " 0.         0.         0.         0.         0.         0.\n",
      " 0.         0.         0.         0.         0.         0.\n",
      " 0.         0.         0.         0.         1.         0.\n",
      " 0.         0.         0.         1.         0.         0.24973989\n",
      " 0.03696921 0.09029815 0.0541667  0.02558079 0.99860018 0.05265012\n",
      " 0.01763634 0.07798824 0.01907719 0.03455623 0.16798161 0.05678619\n",
      " 0.06723244 0.04608883 0.18694262 0.07585818 0.02558079 0.04031041\n",
      " 0.26894143 0.02792257 0.        ]\n"
     ]
    }
   ],
   "source": [
    "# Pick a residue in the sequence\n",
    "ex = first_sequence[19,:]\n",
    "print(ex)"
   ]
  },
  {
   "cell_type": "code",
   "execution_count": 87,
   "metadata": {},
   "outputs": [
    {
     "name": "stdout",
     "output_type": "stream",
     "text": [
      "Residue (one hot encoded):\n",
      " [0. 0. 0. 0. 1. 0. 0. 0. 0. 0. 0. 0. 0. 0. 0. 0. 0. 0. 0. 0. 0. 0.] \n",
      "  A  C  E  D  G  F  I  H  K  M  L  N  Q  P  S  R  T  W  V  Y  X  NoSeq\n",
      "\n",
      "Structure (one hot encoded):\n",
      " [0. 0. 0. 0. 0. 0. 1. 0. 0.] \n",
      "  L  B  E  G  I  H  S  T  NoSeq\n",
      "\n",
      "Terminals:\n",
      " [0. 0.] \n",
      "  N- C-\n",
      "\n",
      "Solvent Accessibility:\n",
      " [1. 0.] \n",
      " Absolute and Relative solvent accessibility\n",
      "\n",
      "Profiles:\n",
      " [0.24973989 0.03696921 0.09029815 0.0541667  0.02558079 0.99860018\n",
      " 0.05265012 0.01763634 0.07798824 0.01907719 0.03455623 0.16798161\n",
      " 0.05678619 0.06723244 0.04608883 0.18694262 0.07585818 0.02558079\n",
      " 0.04031041 0.26894143 0.02792257 0.        ] \n",
      "  A  C  D  E  F  G  H  I  K  L  M  N  P  Q  R  S  T  V  W  X  Y\n",
      "\n"
     ]
    }
   ],
   "source": [
    "# Analyze features for this residue\n",
    "one_hot = ex[:22]\n",
    "print('Residue (one hot encoded):\\n',one_hot,'\\n  A  C  E  D  G  F  I  H  K  M  L  N  Q  P  S  R  T  W  V  Y  X  NoSeq\\n')\n",
    "seq_str = ex[22:31]\n",
    "print('Structure (one hot encoded):\\n',seq_str,'\\n  L  B  E  G  I  H  S  T  NoSeq\\n')\n",
    "ter = ex[31:33]\n",
    "print('Terminals:\\n',ter,'\\n  N- C-\\n')\n",
    "solv = ex[33:35]\n",
    "print('Solvent Accessibility:\\n',solv, '\\n Absolute and Relative solvent accessibility\\n')\n",
    "seq_prf = ex[35:57]\n",
    "print('Profiles:\\n',seq_prf, '\\n  A  C  D  E  F  G  H  I  K  L  M  N  P  Q  R  S  T  V  W  X  Y\\n')"
   ]
  },
  {
   "cell_type": "code",
   "execution_count": 80,
   "metadata": {},
   "outputs": [],
   "source": [
    "# Compute label counts\n",
    "str_counter = np.array([0., 0., 0., 0., 0., 0., 0., 0., 0.])\n",
    "for i in range(training_data.shape[0]):\n",
    "    sequence = training_data[i,:].reshape((700,57))\n",
    "    structs = sequence[:, 22:31]\n",
    "    sumstructs = np.sum(structs, axis = 0)\n",
    "    str_counter +=  sumstructs\n",
    "    "
   ]
  },
  {
   "cell_type": "code",
   "execution_count": 81,
   "metadata": {},
   "outputs": [
    {
     "data": {
      "text/plain": [
       "<BarContainer object of 9 artists>"
      ]
     },
     "execution_count": 81,
     "metadata": {},
     "output_type": "execute_result"
    },
    {
     "data": {
      "image/png": "[encoded data removed]",
      "text/plain": [
       "<Figure size 432x288 with 1 Axes>"
      ]
     },
     "metadata": {
      "needs_background": "light"
     },
     "output_type": "display_data"
    }
   ],
   "source": [
    "import matplotlib.pyplot as plt\n",
    "plt.bar(['L', 'B', 'E', 'G', 'I', 'H', 'S', 'T','NoSeq'],str_counter)"
   ]
  },
  {
   "cell_type": "code",
   "execution_count": 82,
   "metadata": {},
   "outputs": [
    {
     "data": {
      "text/plain": [
       "<BarContainer object of 8 artists>"
      ]
     },
     "execution_count": 82,
     "metadata": {},
     "output_type": "execute_result"
    },
    {
     "data": {
      "image/png": "[encoded data removed]",
      "text/plain": [
       "<Figure size 432x288 with 1 Axes>"
      ]
     },
     "metadata": {
      "needs_background": "light"
     },
     "output_type": "display_data"
    }
   ],
   "source": [
    "# plot once again without NoSeq\n",
    "plt.bar(['L', 'B', 'E', 'G', 'I', 'H', 'S', 'T'],str_counter[:-1])"
   ]
  },
  {
   "cell_type": "code",
   "execution_count": 83,
   "metadata": {},
   "outputs": [],
   "source": [
    "# Compute residue counts\n",
    "res_counter = np.array([0.]*22)\n",
    "for i in range(training_data.shape[0]):\n",
    "    sequence = training_data[i,:].reshape((700,57))\n",
    "    ress = sequence[:, :22]\n",
    "    sumress = np.sum(ress, axis = 0)\n",
    "    res_counter +=  sumress"
   ]
  },
  {
   "cell_type": "code",
   "execution_count": 84,
   "metadata": {},
   "outputs": [
    {
     "data": {
      "text/plain": [
       "<BarContainer object of 22 artists>"
      ]
     },
     "execution_count": 84,
     "metadata": {},
     "output_type": "execute_result"
    },
    {
     "data": {
      "image/png": "[encoded data removed]",
      "text/plain": [
       "<Figure size 432x288 with 1 Axes>"
      ]
     },
     "metadata": {
      "needs_background": "light"
     },
     "output_type": "display_data"
    }
   ],
   "source": [
    "plt.bar(['A', 'C', 'E', 'D', 'G', 'F', 'I', 'H', 'K', 'M', 'L', 'N', 'Q', 'P', 'S', 'R', 'T', 'W', 'V', 'Y', 'X','NoSeq'],\n",
    "        res_counter)"
   ]
  },
  {
   "cell_type": "code",
   "execution_count": 85,
   "metadata": {},
   "outputs": [
    {
     "data": {
      "text/plain": [
       "<BarContainer object of 21 artists>"
      ]
     },
     "execution_count": 85,
     "metadata": {},
     "output_type": "execute_result"
    },
    {
     "data": {
      "image/png": "[encoded data removed]",
      "text/plain": [
       "<Figure size 432x288 with 1 Axes>"
      ]
     },
     "metadata": {
      "needs_background": "light"
     },
     "output_type": "display_data"
    }
   ],
   "source": [
    "# plot once again without NoSeq\n",
    "plt.bar(['A', 'C', 'E', 'D', 'G', 'F', 'I', 'H', 'K', 'M', 'L', 'N', 'Q', 'P', 'S', 'R', 'T', 'W', 'V', 'Y', 'X'],\n",
    "        res_counter[:-1])"
   ]
  },
  {
   "cell_type": "code",
   "execution_count": 88,
   "metadata": {},
   "outputs": [],
   "source": [
    "abs_solv = []\n",
    "rel_solv = []\n",
    "for i in range(training_data.shape[0]):\n",
    "    sequence = training_data[i,:].reshape((700,57))\n",
    "    abs_solv += list(sequence[:, 33])\n",
    "    rel_solv += list(sequence[:, 34])"
   ]
  },
  {
   "cell_type": "code",
   "execution_count": 93,
   "metadata": {},
   "outputs": [
    {
     "name": "stdout",
     "output_type": "stream",
     "text": [
      "{0.0, 1.0} {0.0, 1.0}\n"
     ]
    },
    {
     "data": {
      "text/plain": [
       "<BarContainer object of 2 artists>"
      ]
     },
     "execution_count": 93,
     "metadata": {},
     "output_type": "execute_result"
    },
    {
     "data": {
      "image/png": "[encoded data removed]",
      "text/plain": [
       "<Figure size 432x288 with 1 Axes>"
      ]
     },
     "metadata": {
      "needs_background": "light"
     },
     "output_type": "display_data"
    }
   ],
   "source": [
    "print(set(abs_solv), set(rel_solv))\n",
    "plt.bar(['0','1'],[abs_solv.count(0), abs_solv.count(1)])"
   ]
  },
  {
   "cell_type": "code",
   "execution_count": 92,
   "metadata": {},
   "outputs": [
    {
     "data": {
      "text/plain": [
       "<BarContainer object of 2 artists>"
      ]
     },
     "execution_count": 92,
     "metadata": {},
     "output_type": "execute_result"
    },
    {
     "data": {
      "image/png": "[encoded data removed]",
      "text/plain": [
       "<Figure size 432x288 with 1 Axes>"
      ]
     },
     "metadata": {
      "needs_background": "light"
     },
     "output_type": "display_data"
    }
   ],
   "source": [
    "plt.bar(['0','1'],[rel_solv.count(0), rel_solv.count(1)])"
   ]
  }
 ],
 "metadata": {
  "kernelspec": {
   "display_name": "Python 3",
   "language": "python",
   "name": "python3"
  },
  "language_info": {
   "codemirror_mode": {
    "name": "ipython",
    "version": 3
   },
   "file_extension": ".py",
   "mimetype": "text/x-python",
   "name": "python",
   "nbconvert_exporter": "python",
   "pygments_lexer": "ipython3",
   "version": "3.6.8"
  }
 },
 "nbformat": 4,
 "nbformat_minor": 2
}
