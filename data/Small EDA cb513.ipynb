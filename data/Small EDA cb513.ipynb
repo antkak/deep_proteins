{
 "cells": [
  {
   "cell_type": "markdown",
   "metadata": {},
   "source": [
    "# Dataset Presentation of CB513"
   ]
  },
  {
   "cell_type": "code",
   "execution_count": 1,
   "metadata": {},
   "outputs": [
    {
     "name": "stdout",
     "output_type": "stream",
     "text": [
      "sequences: 514 \n",
      "features: 39900\n"
     ]
    }
   ],
   "source": [
    "import numpy as np\n",
    "\n",
    "# Load training data from cb513\n",
    "training_data = np.load('cb513.npy')\n",
    "print('sequences:',training_data.shape[0],\n",
    "      '\\nfeatures:' ,training_data.shape[1])"
   ]
  },
  {
   "cell_type": "code",
   "execution_count": 2,
   "metadata": {},
   "outputs": [
    {
     "name": "stdout",
     "output_type": "stream",
     "text": [
      "(700, 57) \n",
      " [[0.         0.         0.         ... 0.26894142 0.9234378  0.        ]\n",
      " [0.         0.         0.         ... 0.11920292 0.00919371 0.        ]\n",
      " [0.         0.         0.         ... 0.5        0.02508696 0.        ]\n",
      " ...\n",
      " [0.         0.         0.         ... 0.         0.         1.        ]\n",
      " [0.         0.         0.         ... 0.         0.         1.        ]\n",
      " [0.         0.         0.         ... 0.         0.         1.        ]]\n"
     ]
    }
   ],
   "source": [
    "# Pick the first sample (sequence) and reshape it to 700 x 57 (sequence length x features+labels) \n",
    "first_sequence = training_data[0,:].reshape((700,57))\n",
    "print(first_sequence.shape,'\\n',first_sequence)"
   ]
  },
  {
   "cell_type": "code",
   "execution_count": 3,
   "metadata": {
    "scrolled": true
   },
   "outputs": [
    {
     "name": "stdout",
     "output_type": "stream",
     "text": [
      "[0.         0.         0.         0.         0.         0.\n",
      " 1.         0.         0.         0.         0.         0.\n",
      " 0.         0.         0.         0.         0.         0.\n",
      " 0.         0.         0.         0.         0.         0.\n",
      " 0.         0.         0.         1.         0.         0.\n",
      " 0.         0.         0.         0.         0.         0.11608892\n",
      " 0.09885607 0.01177421 0.01477403 0.19940776 0.00776757 0.01131776\n",
      " 0.99635229 0.02253264 0.69423634 0.52248482 0.01212843 0.02043219\n",
      " 0.02188127 0.01695654 0.03489141 0.17079548 0.97768656 0.0206333\n",
      " 0.26894142 0.08166026 0.        ]\n"
     ]
    }
   ],
   "source": [
    "# Pick a residue in the sequence\n",
    "ex = first_sequence[19,:]\n",
    "print(ex)"
   ]
  },
  {
   "cell_type": "code",
   "execution_count": 4,
   "metadata": {},
   "outputs": [
    {
     "name": "stdout",
     "output_type": "stream",
     "text": [
      "Residue (one hot encoded):\n",
      " [0. 0. 0. 0. 0. 0. 1. 0. 0. 0. 0. 0. 0. 0. 0. 0. 0. 0. 0. 0. 0. 0.] \n",
      "  A  C  E  D  G  F  I  H  K  M  L  N  Q  P  S  R  T  W  V  Y  X  NoSeq\n",
      "\n",
      "Structure (one hot encoded):\n",
      " [0. 0. 0. 0. 0. 1. 0. 0. 0.] \n",
      "  L  B  E  G  I  H  S  T  NoSeq\n",
      "\n",
      "Terminals:\n",
      " [0. 0.] \n",
      "  N- C-\n",
      "\n",
      "Solvent Accessibility:\n",
      " [0. 0.] \n",
      " Absolute and Relative solvent accessibility\n",
      "\n",
      "Profiles:\n",
      " [0.11608892 0.09885607 0.01177421 0.01477403 0.19940776 0.00776757\n",
      " 0.01131776 0.99635229 0.02253264 0.69423634 0.52248482 0.01212843\n",
      " 0.02043219 0.02188127 0.01695654 0.03489141 0.17079548 0.97768656\n",
      " 0.0206333  0.26894142 0.08166026 0.        ] \n",
      "  A  C  D  E  F  G  H  I  K  L  M  N  P  Q  R  S  T  V  W  X  Y\n",
      "\n"
     ]
    }
   ],
   "source": [
    "# Analyze features for this residue\n",
    "one_hot = ex[:22]\n",
    "print('Residue (one hot encoded):\\n',one_hot,'\\n  A  C  E  D  G  F  I  H  K  M  L  N  Q  P  S  R  T  W  V  Y  X  NoSeq\\n')\n",
    "seq_str = ex[22:31]\n",
    "print('Structure (one hot encoded):\\n',seq_str,'\\n  L  B  E  G  I  H  S  T  NoSeq\\n')\n",
    "ter = ex[31:33]\n",
    "print('Terminals:\\n',ter,'\\n  N- C-\\n')\n",
    "solv = ex[33:35]\n",
    "print('Solvent Accessibility:\\n',solv, '\\n Absolute and Relative solvent accessibility\\n')\n",
    "seq_prf = ex[35:57]\n",
    "print('Profiles:\\n',seq_prf, '\\n  A  C  D  E  F  G  H  I  K  L  M  N  P  Q  R  S  T  V  W  X  Y\\n')"
   ]
  },
  {
   "cell_type": "code",
   "execution_count": 5,
   "metadata": {},
   "outputs": [],
   "source": [
    "# Compute label counts\n",
    "str_counter = np.array([0., 0., 0., 0., 0., 0., 0., 0., 0.])\n",
    "for i in range(training_data.shape[0]):\n",
    "    sequence = training_data[i,:].reshape((700,57))\n",
    "    structs = sequence[:, 22:31]\n",
    "    sumstructs = np.sum(structs, axis = 0)\n",
    "    str_counter +=  sumstructs\n",
    "    "
   ]
  },
  {
   "cell_type": "code",
   "execution_count": 11,
   "metadata": {},
   "outputs": [
    {
     "data": {
      "text/plain": [
       "<BarContainer object of 9 artists>"
      ]
     },
     "execution_count": 11,
     "metadata": {},
     "output_type": "execute_result"
    },
    {
     "data": {
      "image/png": "[encoded data removed]",
      "text/plain": [
       "<Figure size 432x288 with 1 Axes>"
      ]
     },
     "metadata": {
      "needs_background": "light"
     },
     "output_type": "display_data"
    }
   ],
   "source": [
    "import matplotlib.pyplot as plt\n",
    "plt.bar(['L', 'B', 'E', 'G', 'I', 'H', 'S', 'T','NoSeq'],str_counter)"
   ]
  },
  {
   "cell_type": "code",
   "execution_count": 7,
   "metadata": {},
   "outputs": [
    {
     "data": {
      "text/plain": [
       "<BarContainer object of 8 artists>"
      ]
     },
     "execution_count": 7,
     "metadata": {},
     "output_type": "execute_result"
    },
    {
     "data": {
      "image/png": "[encoded data removed]",
      "text/plain": [
       "<Figure size 432x288 with 1 Axes>"
      ]
     },
     "metadata": {
      "needs_background": "light"
     },
     "output_type": "display_data"
    }
   ],
   "source": [
    "# plot once again without NoSeq\n",
    "plt.bar(['L', 'B', 'E', 'G', 'I', 'H', 'S', 'T'],str_counter[:-1])"
   ]
  },
  {
   "cell_type": "code",
   "execution_count": 8,
   "metadata": {},
   "outputs": [],
   "source": [
    "# Compute solvent access\n",
    "res_counter = np.array([0.]*22)\n",
    "for i in range(training_data.shape[0]):\n",
    "    sequence = training_data[i,:].reshape((700,57))\n",
    "    ress = sequence[:, :22]\n",
    "    sumress = np.sum(ress, axis = 0)\n",
    "    res_counter +=  sumress"
   ]
  },
  {
   "cell_type": "code",
   "execution_count": 9,
   "metadata": {},
   "outputs": [
    {
     "data": {
      "text/plain": [
       "<BarContainer object of 22 artists>"
      ]
     },
     "execution_count": 9,
     "metadata": {},
     "output_type": "execute_result"
    },
    {
     "data": {
      "image/png": "[encoded data removed]",
      "text/plain": [
       "<Figure size 432x288 with 1 Axes>"
      ]
     },
     "metadata": {
      "needs_background": "light"
     },
     "output_type": "display_data"
    }
   ],
   "source": [
    "plt.bar(['A', 'C', 'E', 'D', 'G', 'F', 'I', 'H', 'K', 'M', 'L', 'N', 'Q', 'P', 'S', 'R', 'T', 'W', 'V', 'Y', 'X','NoSeq'],\n",
    "        res_counter)"
   ]
  },
  {
   "cell_type": "code",
   "execution_count": 10,
   "metadata": {},
   "outputs": [
    {
     "data": {
      "text/plain": [
       "<BarContainer object of 21 artists>"
      ]
     },
     "execution_count": 10,
     "metadata": {},
     "output_type": "execute_result"
    },
    {
     "data": {
      "image/png": "[encoded data removed]",
      "text/plain": [
       "<Figure size 432x288 with 1 Axes>"
      ]
     },
     "metadata": {
      "needs_background": "light"
     },
     "output_type": "display_data"
    }
   ],
   "source": [
    "# plot once again without NoSeq\n",
    "plt.bar(['A', 'C', 'E', 'D', 'G', 'F', 'I', 'H', 'K', 'M', 'L', 'N', 'Q', 'P', 'S', 'R', 'T', 'W', 'V', 'Y', 'X'],\n",
    "        res_counter[:-1])"
   ]
  },
  {
   "cell_type": "code",
   "execution_count": 12,
   "metadata": {},
   "outputs": [],
   "source": [
    "abs_solv = []\n",
    "rel_solv = []\n",
    "for i in range(training_data.shape[0]):\n",
    "    sequence = training_data[i,:].reshape((700,57))\n",
    "    abs_solv += list(sequence[:, 33])\n",
    "    rel_solv += list(sequence[:, 34])"
   ]
  },
  {
   "cell_type": "code",
   "execution_count": 13,
   "metadata": {},
   "outputs": [
    {
     "data": {
      "text/plain": [
       "<BarContainer object of 2 artists>"
      ]
     },
     "execution_count": 13,
     "metadata": {},
     "output_type": "execute_result"
    },
    {
     "data": {
      "image/png": "[encoded data removed]",
      "text/plain": [
       "<Figure size 432x288 with 1 Axes>"
      ]
     },
     "metadata": {
      "needs_background": "light"
     },
     "output_type": "display_data"
    }
   ],
   "source": [
    "plt.bar(['0','1'],[abs_solv.count(0), abs_solv.count(1)])"
   ]
  },
  {
   "cell_type": "code",
   "execution_count": 14,
   "metadata": {},
   "outputs": [
    {
     "data": {
      "text/plain": [
       "<BarContainer object of 2 artists>"
      ]
     },
     "execution_count": 14,
     "metadata": {},
     "output_type": "execute_result"
    },
    {
     "data": {
      "image/png": "[encoded data removed]",
      "text/plain": [
       "<Figure size 432x288 with 1 Axes>"
      ]
     },
     "metadata": {
      "needs_background": "light"
     },
     "output_type": "display_data"
    }
   ],
   "source": [
    "plt.bar(['0','1'],[rel_solv.count(0), rel_solv.count(1)])"
   ]
  }
 ],
 "metadata": {
  "kernelspec": {
   "display_name": "Python 3",
   "language": "python",
   "name": "python3"
  },
  "language_info": {
   "codemirror_mode": {
    "name": "ipython",
    "version": 3
   },
   "file_extension": ".py",
   "mimetype": "text/x-python",
   "name": "python",
   "nbconvert_exporter": "python",
   "pygments_lexer": "ipython3",
   "version": "3.6.8"
  }
 },
 "nbformat": 4,
 "nbformat_minor": 2
}
